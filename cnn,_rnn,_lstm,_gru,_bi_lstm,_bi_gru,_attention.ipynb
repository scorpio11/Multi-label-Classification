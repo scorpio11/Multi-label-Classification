{
  "nbformat": 4,
  "nbformat_minor": 0,
  "metadata": {
    "colab": {
      "name": "cnn, rnn, lstm, gru, bi-lstm, bi-gru, attention",
      "provenance": [],
      "collapsed_sections": [],
      "machine_shape": "hm"
    },
    "kernelspec": {
      "display_name": "Python 3",
      "name": "python3"
    },
    "accelerator": "TPU"
  },
  "cells": [
    {
      "cell_type": "code",
      "metadata": {
        "colab": {
          "base_uri": "https://localhost:8080/"
        },
        "id": "85-8U047-lrZ",
        "outputId": "69dc58bb-47a1-4e9b-ddf3-a1cde012e893"
      },
      "source": [
        "from google.colab import drive\n",
        "drive.mount('/content/drive')"
      ],
      "execution_count": null,
      "outputs": [
        {
          "output_type": "stream",
          "text": [
            "Drive already mounted at /content/drive; to attempt to forcibly remount, call drive.mount(\"/content/drive\", force_remount=True).\n"
          ],
          "name": "stdout"
        }
      ]
    },
    {
      "cell_type": "code",
      "metadata": {
        "colab": {
          "base_uri": "https://localhost:8080/"
        },
        "id": "l3zsu0GM-n5z",
        "outputId": "db3ee699-2c60-47a2-f6ce-fd74f5423b3d"
      },
      "source": [
        "from keras.layers import Dense, Input, LSTM, Embedding, Dropout, Activation, GRU, Conv1D, SimpleRNN\n",
        "from keras.layers import Bidirectional, GlobalMaxPool1D, GlobalMaxPooling1D, GlobalAveragePooling1D\n",
        "from keras.layers import Input, Embedding, Dense, Conv2D, MaxPool2D, concatenate\n",
        "from keras.layers import Reshape, Flatten, Concatenate, Dropout, SpatialDropout1D\n",
        "from keras.optimizers import Adam\n",
        "from keras.models import Model\n",
        "from keras.engine.topology import Layer\n",
        "from keras import initializers, regularizers, constraints, optimizers, layers\n",
        "from keras.preprocessing.text import Tokenizer\n",
        "\n",
        "\n",
        "from keras.layers import *\n",
        "from keras.models import *\n",
        "from keras import initializers, regularizers, constraints, optimizers, layers\n",
        "from keras.initializers import *\n",
        "from keras.optimizers import *\n",
        "import keras.backend as K\n",
        "from keras.callbacks import *\n",
        "import tensorflow as tf\n",
        "\n",
        "import pandas as pd\n",
        "import numpy as np\n",
        "from tqdm import tqdm\n",
        "tqdm.pandas()\n",
        "from sklearn.model_selection import train_test_split, StratifiedKFold\n",
        "from sklearn import metrics"
      ],
      "execution_count": null,
      "outputs": [
        {
          "output_type": "stream",
          "text": [
            "/usr/local/lib/python3.7/dist-packages/tqdm/std.py:658: FutureWarning: The Panel class is removed from pandas. Accessing it from the top-level namespace will also be removed in the next version\n",
            "  from pandas import Panel\n"
          ],
          "name": "stderr"
        }
      ]
    },
    {
      "cell_type": "code",
      "metadata": {
        "colab": {
          "base_uri": "https://localhost:8080/"
        },
        "id": "oTv4ivxI-prG",
        "outputId": "c768d2bc-48e1-40de-a864-1786bf5ec54d"
      },
      "source": [
        "rcv1_train = pd.read_csv(\"/content/drive/MyDrive/ReutersTextClassification/Datasets/RCV1/rcv1_train_data_formatted.csv\")\n",
        "rcv1_test=pd.read_csv(\"/content/drive/MyDrive/ReutersTextClassification/Datasets/RCV1/rcv1_test_data_formatted.csv\")\n",
        "\n",
        "codes=[]\n",
        "with open('/content/drive/MyDrive/ReutersTextClassification/Datasets/RCV1/rcv1.topics.txt','r') as f:\n",
        "  lines=f.readlines()\n",
        "  for line in lines:\n",
        "    codes.append(line.rstrip())\n",
        "print(len(codes))\n",
        "print(codes)\n",
        "\n",
        "\n",
        "rcv1_train_labels = rcv1_train[codes]\n",
        "rcv1_test_labels = rcv1_test[codes]"
      ],
      "execution_count": null,
      "outputs": [
        {
          "output_type": "stream",
          "text": [
            "103\n",
            "['C11', 'C12', 'C13', 'C14', 'C15', 'C151', 'C1511', 'C152', 'C16', 'C17', 'C171', 'C172', 'C173', 'C174', 'C18', 'C181', 'C182', 'C183', 'C21', 'C22', 'C23', 'C24', 'C31', 'C311', 'C312', 'C313', 'C32', 'C33', 'C331', 'C34', 'C41', 'C411', 'C42', 'CCAT', 'E11', 'E12', 'E121', 'E13', 'E131', 'E132', 'E14', 'E141', 'E142', 'E143', 'E21', 'E211', 'E212', 'E31', 'E311', 'E312', 'E313', 'E41', 'E411', 'E51', 'E511', 'E512', 'E513', 'E61', 'E71', 'ECAT', 'G15', 'G151', 'G152', 'G153', 'G154', 'G155', 'G156', 'G157', 'G158', 'G159', 'GCAT', 'GCRIM', 'GDEF', 'GDIP', 'GDIS', 'GENT', 'GENV', 'GFAS', 'GHEA', 'GJOB', 'GMIL', 'GOBIT', 'GODD', 'GPOL', 'GPRO', 'GREL', 'GSCI', 'GSPO', 'GTOUR', 'GVIO', 'GVOTE', 'GWEA', 'GWELF', 'M11', 'M12', 'M13', 'M131', 'M132', 'M14', 'M141', 'M142', 'M143', 'MCAT']\n"
          ],
          "name": "stdout"
        }
      ]
    },
    {
      "cell_type": "code",
      "metadata": {
        "id": "DqIcgpoE-xGx"
      },
      "source": [
        "rcv1_train[\"newsitem\"] = rcv1_train[\"newsitem\"].str.lower()\n",
        "rcv1_test[\"newsitem\"] = rcv1_test[\"newsitem\"].str.lower()"
      ],
      "execution_count": null,
      "outputs": []
    },
    {
      "cell_type": "code",
      "metadata": {
        "id": "2RqTeek8-zEU"
      },
      "source": [
        "import re\n",
        "#preprocess step\n",
        "def preprocess_text(sen):\n",
        "    # Remove punctuations and numbers\n",
        "    sentence = re.sub('[^a-zA-Z]', ' ', str(sen))\n",
        "\n",
        "    # Single character removal\n",
        "    sentence = re.sub(r\"\\s+[a-zA-Z]\\s+\", ' ', str(sentence))\n",
        "\n",
        "    # Removing multiple spaces\n",
        "    sentence = re.sub(r'\\s+', ' ', str(sentence))\n",
        "\n",
        "    return sentence\n",
        "\n",
        "rcv1_train[\"newsitem\"] = rcv1_train[\"newsitem\"].apply(lambda x: preprocess_text(x))\n",
        "rcv1_test[\"newsitem\"] = rcv1_test[\"newsitem\"].apply(lambda x: preprocess_text(x))"
      ],
      "execution_count": null,
      "outputs": []
    },
    {
      "cell_type": "code",
      "metadata": {
        "id": "X1NsEa09-2Vl",
        "colab": {
          "base_uri": "https://localhost:8080/"
        },
        "outputId": "51d4e5e1-a6a9-49a2-fcd0-1e68767b7b26"
      },
      "source": [
        "print('average train sentence length: ', rcv1_train.newsitem.str.split().str.len().mean())\n",
        "print('stdev train sentence length: ', rcv1_train.newsitem.str.split().str.len().std())"
      ],
      "execution_count": null,
      "outputs": [
        {
          "output_type": "stream",
          "text": [
            "average train sentence length:  204.10229383558686\n",
            "stdev train sentence length:  189.21434973921873\n"
          ],
          "name": "stdout"
        }
      ]
    },
    {
      "cell_type": "code",
      "metadata": {
        "id": "YZIVMr1a-3J7",
        "colab": {
          "base_uri": "https://localhost:8080/"
        },
        "outputId": "2f0a5bff-3f13-465c-d07c-a7ebece29416"
      },
      "source": [
        "print('average test sentence length: ', rcv1_test.newsitem.str.split().str.len().mean())\n",
        "print('stdev test sentence length: ', rcv1_test.newsitem.str.split().str.len().std())"
      ],
      "execution_count": null,
      "outputs": [
        {
          "output_type": "stream",
          "text": [
            "average test sentence length:  209.47152886664577\n",
            "stdev test sentence length:  195.82496640697397\n"
          ],
          "name": "stdout"
        }
      ]
    },
    {
      "cell_type": "code",
      "metadata": {
        "id": "abUJNYRW-49E"
      },
      "source": [
        "## some config values \n",
        "embed_size = 300 # how big is each word vector\n",
        "max_features = None # how many unique words to use (i.e num rows in embedding vector)\n",
        "maxlen = 1500 # max number of words in a question to use #99.99%\n",
        "\n",
        "## fill up the missing values\n",
        "X = rcv1_train[\"newsitem\"].fillna(\"_na_\").values\n",
        "X_test = rcv1_test[\"newsitem\"].fillna(\"_na_\").values"
      ],
      "execution_count": null,
      "outputs": []
    },
    {
      "cell_type": "code",
      "metadata": {
        "id": "AuREsQF--74p"
      },
      "source": [
        "## Tokenize the sentences\n",
        "tokenizer = Tokenizer(num_words=max_features, filters='')\n",
        "tokenizer.fit_on_texts(list(X))\n",
        "\n",
        "X = tokenizer.texts_to_sequences(X)\n",
        "X_test = tokenizer.texts_to_sequences(X_test)"
      ],
      "execution_count": null,
      "outputs": []
    },
    {
      "cell_type": "code",
      "metadata": {
        "id": "8ZGd4Xhx-8rJ"
      },
      "source": [
        "from tensorflow.keras.preprocessing.sequence import pad_sequences\n",
        "## Pad the sentences \n",
        "X = pad_sequences(X, padding='post', maxlen=maxlen)\n",
        "X_test = pad_sequences(X_test, padding='post', maxlen=maxlen)\n",
        "\n",
        "## Get the target values\n",
        "\n",
        "\n",
        "Y = rcv1_train_labels.values\n",
        "Y_test = rcv1_test_labels.values"
      ],
      "execution_count": null,
      "outputs": []
    },
    {
      "cell_type": "code",
      "metadata": {
        "id": "N04h6M_3--Cw"
      },
      "source": [
        "import gc\n",
        "del rcv1_train, rcv1_test\n",
        "gc.collect()\n",
        "\n",
        "word_index = tokenizer.word_index\n",
        "max_features = len(word_index)+1\n",
        "def load_glove(word_index):\n",
        "    EMBEDDING_FILE = '/content/drive/MyDrive/ReutersTextClassification/WordEmbedding/Glove_6B/glove.6B.300d.txt'\n",
        "    def get_coefs(word,*arr): return word, np.asarray(arr, dtype='float32')\n",
        "    embeddings_index = dict(get_coefs(*o.split(\" \")) for o in open(EMBEDDING_FILE) if o.split(\" \")[0] in word_index)\n",
        "\n",
        "    all_embs = np.stack(embeddings_index.values())\n",
        "    emb_mean,emb_std = all_embs.mean(), all_embs.std()\n",
        "    embed_size = all_embs.shape[1]\n",
        "\n",
        "    embedding_matrix = np.random.normal(emb_mean, emb_std, (max_features, embed_size))\n",
        "    for word, i in word_index.items():\n",
        "        if i >= max_features: continue\n",
        "        embedding_vector = embeddings_index.get(word)\n",
        "        if embedding_vector is not None: embedding_matrix[i] = embedding_vector\n",
        "            \n",
        "    return embedding_matrix \n",
        "\n",
        "def load_fasttext(word_index):    \n",
        "    EMBEDDING_FILE = '/content/drive/MyDrive/ReutersTextClassification/WordEmbedding/Fasttext/wiki-news-300d-1M.vec'\n",
        "    def get_coefs(word,*arr): return word, np.asarray(arr, dtype='float32')\n",
        "    embeddings_index = dict(get_coefs(*o.split(\" \")) for o in open(EMBEDDING_FILE) if len(o)>100 and o.split(\" \")[0] in word_index )\n",
        "\n",
        "    all_embs = np.stack(embeddings_index.values())\n",
        "    emb_mean,emb_std = all_embs.mean(), all_embs.std()\n",
        "    embed_size = all_embs.shape[1]\n",
        "\n",
        "    embedding_matrix = np.random.normal(emb_mean, emb_std, (max_features, embed_size))\n",
        "    for word, i in word_index.items():\n",
        "        if i >= max_features: continue\n",
        "        embedding_vector = embeddings_index.get(word)\n",
        "        if embedding_vector is not None: embedding_matrix[i] = embedding_vector\n",
        "\n",
        "    return embedding_matrix\n",
        "\n",
        "def load_para(word_index):\n",
        "    EMBEDDING_FILE = '../input/embeddings/paragram_300_sl999/paragram_300_sl999.txt'\n",
        "    def get_coefs(word,*arr): return word, np.asarray(arr, dtype='float32')\n",
        "    embeddings_index = dict(get_coefs(*o.split(\" \")) for o in open(EMBEDDING_FILE, encoding=\"utf8\", errors='ignore') if len(o)>100 and o.split(\" \")[0] in word_index)\n",
        "\n",
        "    all_embs = np.stack(embeddings_index.values())\n",
        "    emb_mean,emb_std = all_embs.mean(), all_embs.std()\n",
        "    embed_size = all_embs.shape[1]\n",
        "    \n",
        "    embedding_matrix = np.random.normal(emb_mean, emb_std, (max_features, embed_size))\n",
        "    for word, i in word_index.items():\n",
        "        if i >= max_features: continue\n",
        "        embedding_vector = embeddings_index.get(word)\n",
        "        if embedding_vector is not None: embedding_matrix[i] = embedding_vector\n",
        "    \n",
        "    return embedding_matrix\n",
        "\n",
        "\n",
        "\n",
        "\n"
      ],
      "execution_count": null,
      "outputs": []
    },
    {
      "cell_type": "code",
      "metadata": {
        "colab": {
          "base_uri": "https://localhost:8080/"
        },
        "id": "5Qqq7M2c-_t_",
        "outputId": "5b9c63b2-c947-4994-cb75-66252557adaa"
      },
      "source": [
        "embedding_matrix = load_glove(word_index)\n",
        "#embedding_matrix_2 = load_fasttext(word_index)\n",
        "#embedding_matrix_3 = load_para(word_index)\n",
        "#embedding_matrix = np.mean((embedding_matrix_1, embedding_matrix_3), axis=0)  \n",
        "#del embedding_matrix_1, embedding_matrix_3\n",
        "gc.collect()\n",
        "np.shape(embedding_matrix)"
      ],
      "execution_count": null,
      "outputs": [
        {
          "output_type": "stream",
          "text": [
            "/usr/local/lib/python3.7/dist-packages/IPython/core/interactiveshell.py:2882: FutureWarning: arrays to stack must be passed as a \"sequence\" type such as list or tuple. Support for non-sequence iterables such as generators is deprecated as of NumPy 1.16 and will raise an error in the future.\n",
            "  exec(code_obj, self.user_global_ns, self.user_ns)\n"
          ],
          "name": "stderr"
        },
        {
          "output_type": "execute_result",
          "data": {
            "text/plain": [
              "(67683, 300)"
            ]
          },
          "metadata": {
            "tags": []
          },
          "execution_count": 12
        }
      ]
    },
    {
      "cell_type": "code",
      "metadata": {
        "id": "day5iKh7pMJY"
      },
      "source": [
        "def dot_product(x, kernel):\n",
        "    \"\"\"\n",
        "    Wrapper for dot product operation, in order to be compatible with both\n",
        "    Theano and Tensorflow\n",
        "    Args:\n",
        "        x (): input\n",
        "        kernel (): weights\n",
        "    Returns:\n",
        "    \"\"\"\n",
        "    if K.backend() == 'tensorflow':\n",
        "        return K.squeeze(K.dot(x, K.expand_dims(kernel)), axis=-1)\n",
        "    else:\n",
        "        return K.dot(x, kernel)"
      ],
      "execution_count": null,
      "outputs": []
    },
    {
      "cell_type": "code",
      "metadata": {
        "id": "BO7mAYt-pVg9"
      },
      "source": [
        "class AttentionWithContext(Layer):\n",
        "    \"\"\"\n",
        "    Attention operation, with a context/query vector, for temporal data.\n",
        "    Supports Masking.\n",
        "    Follows the work of Yang et al. [https://www.cs.cmu.edu/~diyiy/docs/naacl16.pdf]\n",
        "    \"Hierarchical Attention Networks for Document Classification\"\n",
        "    by using a context vector to assist the attention\n",
        "    # Input shape\n",
        "        3D tensor with shape: `(samples, steps, features)`.\n",
        "    # Output shape\n",
        "        2D tensor with shape: `(samples, features)`.\n",
        "    How to use:\n",
        "    Just put it on top of an RNN Layer (GRU/LSTM/SimpleRNN) with return_sequences=True.\n",
        "    The dimensions are inferred based on the output shape of the RNN.\n",
        "    Note: The layer has been tested with Keras 2.0.6\n",
        "    Example:\n",
        "        model.add(LSTM(64, return_sequences=True))\n",
        "        model.add(AttentionWithContext())\n",
        "        # next add a Dense layer (for classification/regression) or whatever...\n",
        "    \"\"\"\n",
        "\n",
        "    def __init__(self,\n",
        "                 W_regularizer=None, u_regularizer=None, b_regularizer=None,\n",
        "                 W_constraint=None, u_constraint=None, b_constraint=None,\n",
        "                 bias=True, **kwargs):\n",
        "\n",
        "        self.supports_masking = True\n",
        "        self.init = initializers.get('glorot_uniform')\n",
        "\n",
        "        self.W_regularizer = regularizers.get(W_regularizer)\n",
        "        self.u_regularizer = regularizers.get(u_regularizer)\n",
        "        self.b_regularizer = regularizers.get(b_regularizer)\n",
        "\n",
        "        self.W_constraint = constraints.get(W_constraint)\n",
        "        self.u_constraint = constraints.get(u_constraint)\n",
        "        self.b_constraint = constraints.get(b_constraint)\n",
        "\n",
        "        self.bias = bias\n",
        "        super(AttentionWithContext, self).__init__(**kwargs)\n",
        "\n",
        "    def build(self, input_shape):\n",
        "        assert len(input_shape) == 3\n",
        "\n",
        "        self.W = self.add_weight(shape=(input_shape[-1], input_shape[-1],),\n",
        "                                 initializer=self.init,\n",
        "                                 name='{}_W'.format(self.name),\n",
        "                                 regularizer=self.W_regularizer,\n",
        "                                 constraint=self.W_constraint)\n",
        "        if self.bias:\n",
        "            self.b = self.add_weight(shape=(input_shape[-1],),\n",
        "                                     initializer='zero',\n",
        "                                     name='{}_b'.format(self.name),\n",
        "                                     regularizer=self.b_regularizer,\n",
        "                                     constraint=self.b_constraint)\n",
        "\n",
        "        self.u = self.add_weight(shape=(input_shape[-1],),\n",
        "                                 initializer=self.init,\n",
        "                                 name='{}_u'.format(self.name),\n",
        "                                 regularizer=self.u_regularizer,\n",
        "                                 constraint=self.u_constraint)\n",
        "\n",
        "        super(AttentionWithContext, self).build(input_shape)\n",
        "\n",
        "    def compute_mask(self, input, input_mask=None):\n",
        "        # do not pass the mask to the next layers\n",
        "        return None\n",
        "\n",
        "    def call(self, x, mask=None):\n",
        "        uit = dot_product(x, self.W)\n",
        "\n",
        "        if self.bias:\n",
        "            uit += self.b\n",
        "\n",
        "        uit = K.tanh(uit)\n",
        "        ait = dot_product(uit, self.u)\n",
        "\n",
        "        a = K.exp(ait)\n",
        "\n",
        "        # apply mask after the exp. will be re-normalized next\n",
        "        if mask is not None:\n",
        "            # Cast the mask to floatX to avoid float64 upcasting in theano\n",
        "            a *= K.cast(mask, K.floatx())\n",
        "\n",
        "        # in some cases especially in the early stages of training the sum may be almost zero\n",
        "        # and this results in NaN's. A workaround is to add a very small positive number ε to the sum.\n",
        "        # a /= K.cast(K.sum(a, axis=1, keepdims=True), K.floatx())\n",
        "        a /= K.cast(K.sum(a, axis=1, keepdims=True) + K.epsilon(), K.floatx())\n",
        "\n",
        "        a = K.expand_dims(a)\n",
        "        weighted_input = x * a\n",
        "        return K.sum(weighted_input, axis=1)\n",
        "\n",
        "    def compute_output_shape(self, input_shape):\n",
        "        return input_shape[0], input_shape[-1]\n",
        "\n",
        "\n"
      ],
      "execution_count": null,
      "outputs": []
    },
    {
      "cell_type": "code",
      "metadata": {
        "id": "dKwsBo7i_BtP"
      },
      "source": [
        "# https://www.kaggle.com/yekenot/2dcnn-textclassifier\n",
        "def model_cnn(embedding_matrix):\n",
        "    filter_sizes = [1,2,3,5]\n",
        "    num_filters = 128\n",
        "\n",
        "    inp = Input(shape=(maxlen,))\n",
        "    x = Embedding(max_features, embed_size, weights=[embedding_matrix],trainable=True)(inp)\n",
        "    x = Reshape((maxlen, embed_size, 1))(x)\n",
        "\n",
        "    maxpool_pool = []\n",
        "    for i in range(len(filter_sizes)):\n",
        "        conv = Conv2D(num_filters, kernel_size=(filter_sizes[i], embed_size),\n",
        "                                     kernel_initializer='he_normal', activation='relu')(x)\n",
        "        maxpool_pool.append(MaxPool2D(pool_size=(maxlen - filter_sizes[i] + 1, 1))(conv))\n",
        "\n",
        "    z = Concatenate(axis=1)(maxpool_pool)   \n",
        "    z = Flatten()(z)\n",
        "    z = Dropout(0.1)(z)\n",
        "\n",
        "    outp = Dense(len(codes), activation=\"sigmoid\")(z)\n",
        "\n",
        "    model = Model(inputs=inp, outputs=outp)\n",
        "    model.compile(loss='binary_crossentropy', optimizer='adam', metrics=['accuracy'])\n",
        "    \n",
        "    return model\n",
        "\n",
        "def model_cnn_self():\n",
        "    filter_sizes = [1,2,3,5]\n",
        "    num_filters = 128\n",
        "\n",
        "    inp = Input(shape=(maxlen,))\n",
        "    x = Embedding(max_features, embed_size)(inp)\n",
        "    x = Reshape((maxlen, embed_size, 1))(x)\n",
        "\n",
        "    maxpool_pool = []\n",
        "    for i in range(len(filter_sizes)):\n",
        "        conv = Conv2D(num_filters, kernel_size=(filter_sizes[i], embed_size),\n",
        "                                     kernel_initializer='he_normal', activation='relu')(x)\n",
        "        maxpool_pool.append(MaxPool2D(pool_size=(maxlen - filter_sizes[i] + 1, 1))(conv))\n",
        "\n",
        "    z = Concatenate(axis=1)(maxpool_pool)   \n",
        "    z = Flatten()(z)\n",
        "    z = Dropout(0.1)(z)\n",
        "\n",
        "    outp = Dense(len(codes), activation=\"sigmoid\")(z)\n",
        "\n",
        "    model = Model(inputs=inp, outputs=outp)\n",
        "    model.compile(loss='binary_crossentropy', optimizer='adam', metrics=['accuracy'])\n",
        "    \n",
        "    return model\n",
        "  \n",
        "def simpleRNN(embedding_matrix):\n",
        "\n",
        "    inp = Input(shape=(maxlen,))\n",
        "    x = Embedding(max_features, embed_size, weights=[embedding_matrix],trainable=True,mask_zero=True)(inp)\n",
        "    #x = Reshape((maxlen, embed_size, 1))(x)\n",
        "\n",
        "    y = SimpleRNN(256,activation=\"relu\")(x)\n",
        "    z = Dense(128)(y)\n",
        "    z = Dropout(0.1)(z)\n",
        "    outp = Dense(len(codes),activation=\"sigmoid\")(z)\n",
        "\n",
        "    model = Model(inputs=inp, outputs=outp)\n",
        "    model.compile(loss='binary_crossentropy', optimizer='adam', metrics=['accuracy'])\n",
        "\n",
        "    return model\n",
        "\n",
        "def simpleRNN_self():\n",
        "\n",
        "    inp = Input(shape=(maxlen,))\n",
        "    x = Embedding(max_features, embed_size,mask_zero=True)(inp)\n",
        "    #x = Reshape((maxlen, embed_size, 1))(x)\n",
        "\n",
        "    y = SimpleRNN(256,activation=\"relu\")(x)\n",
        "    z = Dense(128)(y)\n",
        "    z = Dropout(0.1)(z)\n",
        "    outp = Dense(len(codes),activation=\"sigmoid\")(z)\n",
        "\n",
        "    model = Model(inputs=inp, outputs=outp)\n",
        "    model.compile(loss='binary_crossentropy', optimizer='adam', metrics=['accuracy'])\n",
        "\n",
        "    return model\n",
        "\n",
        "def LSTM_CLASSIFIER(embedding_matrix):\n",
        "\n",
        "    inp = Input(shape=(maxlen,))\n",
        "    x = Embedding(max_features, embed_size, weights=[embedding_matrix],trainable=False,mask_zero=True)(inp)\n",
        "    #x = Reshape((maxlen, embed_size, 1))(x)\n",
        "\n",
        "    y = LSTM(128, dropout=0.1, activation=\"tanh\")(x)\n",
        "    #z = Dense(128)(y)\n",
        "    #z = Dropout(0.1)(z)\n",
        "    outp = Dense(len(codes),activation=\"sigmoid\")(y)\n",
        "\n",
        "    model = Model(inputs=inp, outputs=outp)\n",
        "    model.compile(loss='binary_crossentropy', optimizer='adam', metrics=['accuracy'])\n",
        "\n",
        "    return model\n",
        "\n",
        "def LSTM_CLASSIFIER_self():\n",
        "\n",
        "    inp = Input(shape=(maxlen,))\n",
        "    x = Embedding(max_features, embed_size,mask_zero=True)(inp)\n",
        "    #x = Reshape((maxlen, embed_size, 1))(x)\n",
        "\n",
        "    y = LSTM(128, dropout=0.1, activation=\"tanh\")(x)\n",
        "    #z = Dense(128)(y)\n",
        "    #z = Dropout(0.1)(z)\n",
        "    outp = Dense(len(codes),activation=\"sigmoid\")(y)\n",
        "\n",
        "    model = Model(inputs=inp, outputs=outp)\n",
        "    model.compile(loss='binary_crossentropy', optimizer='adam', metrics=['accuracy'])\n",
        "\n",
        "    return model\n",
        "\n",
        "def GRU_CLASSIFIER(embedding_matrix):\n",
        "\n",
        "    inp = Input(shape=(maxlen,))\n",
        "    x = Embedding(max_features, embed_size, weights=[embedding_matrix],trainable=True,mask_zero=True)(inp)\n",
        "    #x = Reshape((maxlen, embed_size, 1))(x)\n",
        "\n",
        "    y = GRU(128, dropout=0.1, activation=\"tanh\")(x)\n",
        "    #z = Dense(128)(y)\n",
        "    #z = Dropout(0.1)(z)\n",
        "    outp = Dense(len(codes),activation=\"sigmoid\")(y)\n",
        "\n",
        "    model = Model(inputs=inp, outputs=outp)\n",
        "    model.compile(loss='binary_crossentropy', optimizer='adam', metrics=['accuracy'])\n",
        "\n",
        "    return model\n",
        "\n",
        "def GRU_CLASSIFIER_self():\n",
        "\n",
        "    inp = Input(shape=(maxlen,))\n",
        "    x = Embedding(max_features, embed_size, mask_zero=True)(inp)\n",
        "    #x = Reshape((maxlen, embed_size, 1))(x)\n",
        "\n",
        "    y = GRU(128, dropout=0.1, activation=\"tanh\")(x)\n",
        "    #z = Dense(128)(y)\n",
        "    #z = Dropout(0.1)(z)\n",
        "    outp = Dense(len(codes),activation=\"sigmoid\")(y)\n",
        "\n",
        "    model = Model(inputs=inp, outputs=outp)\n",
        "    model.compile(loss='binary_crossentropy', optimizer='adam', metrics=['accuracy'])\n",
        "\n",
        "    return model\n",
        "\n",
        "def BI_LSTM_CLASSIFIER(embedding_matrix):\n",
        "\n",
        "    inp = Input(shape=(maxlen,))\n",
        "    x = Embedding(max_features, embed_size, weights=[embedding_matrix],trainable=True,mask_zero=True)(inp)\n",
        "    #x = Reshape((maxlen, embed_size, 1))(x)\n",
        "\n",
        "    y = Bidirectional(LSTM(128, dropout=0.1, activation=\"tanh\"))(x)\n",
        "    #z = Dense(128)(y)\n",
        "    #z = Dropout(0.1)(z)\n",
        "    outp = Dense(len(codes),activation=\"sigmoid\")(y)\n",
        "\n",
        "    model = Model(inputs=inp, outputs=outp)\n",
        "    model.compile(loss='binary_crossentropy', optimizer='adam', metrics=['accuracy'])\n",
        "\n",
        "    return model\n",
        "\n",
        "def BI_LSTM_CLASSIFIER_self():\n",
        "\n",
        "    inp = Input(shape=(maxlen,))\n",
        "    x = Embedding(max_features, embed_size, mask_zero=True)(inp)\n",
        "    #x = Reshape((maxlen, embed_size, 1))(x)\n",
        "\n",
        "    y = Bidirectional(LSTM(128, dropout=0.1, activation=\"tanh\"))(x)\n",
        "    #z = Dense(128)(y)\n",
        "    #z = Dropout(0.1)(z)\n",
        "    outp = Dense(len(codes),activation=\"sigmoid\")(y)\n",
        "\n",
        "    model = Model(inputs=inp, outputs=outp)\n",
        "    model.compile(loss='binary_crossentropy', optimizer='adam', metrics=['accuracy'])\n",
        "\n",
        "    return model\n",
        "\n",
        "def BI_GRU_CLASSIFIER(embedding_matrix):\n",
        "\n",
        "    inp = Input(shape=(maxlen,))\n",
        "    x = Embedding(max_features, embed_size, weights=[embedding_matrix],trainable=True,mask_zero=True)(inp)\n",
        "    #x = Reshape((maxlen, embed_size, 1))(x)\n",
        "\n",
        "    y = Bidirectional(GRU(128, dropout=0.1, activation=\"tanh\"))(x)\n",
        "    #z = Dense(128)(y)\n",
        "    #z = Dropout(0.1)(z)\n",
        "    outp = Dense(len(codes),activation=\"sigmoid\")(y)\n",
        "\n",
        "    model = Model(inputs=inp, outputs=outp)\n",
        "    model.compile(loss='binary_crossentropy', optimizer='adam', metrics=['accuracy'])\n",
        "\n",
        "    return model\n",
        "\n",
        "def BI_GRU_CLASSIFIER_self():\n",
        "\n",
        "    inp = Input(shape=(maxlen,))\n",
        "    x = Embedding(max_features, embed_size, mask_zero=True)(inp)\n",
        "    #x = Reshape((maxlen, embed_size, 1))(x)\n",
        "\n",
        "    y = Bidirectional(GRU(128, dropout=0.1, activation=\"tanh\"))(x)\n",
        "    #z = Dense(128)(y)\n",
        "    #z = Dropout(0.1)(z)\n",
        "    outp = Dense(len(codes),activation=\"sigmoid\")(y)\n",
        "\n",
        "    model = Model(inputs=inp, outputs=outp)\n",
        "    model.compile(loss='binary_crossentropy', optimizer='adam', metrics=['accuracy'])\n",
        "\n",
        "    return model\n",
        "\n",
        "def model_lstm_attention(embedding_matrix):\n",
        "    inp = Input(shape=(maxlen,))\n",
        "    x = Embedding(max_features, embed_size, weights=[embedding_matrix], trainable=True)(inp)\n",
        "    x = Bidirectional(LSTM(128, return_sequences=True))(x)\n",
        "    x = Bidirectional(LSTM(64, return_sequences=True))(x)\n",
        "    x = AttentionWithContext()(x)\n",
        "    #x = Dense(64, activation=\"relu\")(x)\n",
        "    x = Dense(len(codes), activation=\"sigmoid\")(x)\n",
        "    model = Model(inputs=inp, outputs=x)\n",
        "    model.compile(loss='binary_crossentropy', optimizer='adam', metrics=['accuracy'])\n",
        "    return model\n",
        "\n",
        "def model_lstm_attention_self():\n",
        "    inp = Input(shape=(maxlen,))\n",
        "    x = Embedding(max_features, embed_size, mask_zero=True)(inp)\n",
        "    x = Bidirectional(LSTM(128, return_sequences=True))(x)\n",
        "    x = Bidirectional(LSTM(64, return_sequences=True))(x)\n",
        "    x = AttentionWithContext()(x)\n",
        "    #x = Dense(64, activation=\"relu\")(x)\n",
        "    x = Dense(len(codes), activation=\"sigmoid\")(x)\n",
        "    model = Model(inputs=inp, outputs=x)\n",
        "    model.compile(loss='binary_crossentropy', optimizer='adam', metrics=['accuracy'])\n",
        "    return model\n",
        "\n",
        "def model_gru_attention(embedding_matrix):\n",
        "    inp = Input(shape=(maxlen,))\n",
        "    x = Embedding(max_features, embed_size, weights=[embedding_matrix], trainable=True, mask_zero=True)(inp)\n",
        "    x = Bidirectional(GRU(128, return_sequences=True))(x)\n",
        "    x = Bidirectional(GRU(64, return_sequences=True))(x)\n",
        "    x = AttentionWithContext()(x)\n",
        "    #x = Dense(64, activation=\"relu\")(x)\n",
        "    x = Dense(len(codes), activation=\"sigmoid\")(x)\n",
        "    model = Model(inputs=inp, outputs=x)\n",
        "    model.compile(loss='binary_crossentropy', optimizer='adam', metrics=['accuracy'])\n",
        "    return model\n",
        "\n",
        "def model_gru_attention_self():\n",
        "    inp = Input(shape=(maxlen,))\n",
        "    x = Embedding(max_features, embed_size, mask_zero=True)(inp)\n",
        "    x = Bidirectional(GRU(128, return_sequences=True))(x)\n",
        "    x = Bidirectional(GRU(64, return_sequences=True))(x)\n",
        "    x = AttentionWithContext()(x)\n",
        "    #x = Dense(64, activation=\"relu\")(x)\n",
        "    x = Dense(len(codes), activation=\"sigmoid\")(x)\n",
        "    model = Model(inputs=inp, outputs=x)\n",
        "    model.compile(loss='binary_crossentropy', optimizer='adam', metrics=['accuracy'])\n",
        "    return model"
      ],
      "execution_count": null,
      "outputs": []
    },
    {
      "cell_type": "code",
      "metadata": {
        "id": "ldszaW8F_EpK"
      },
      "source": [
        "model = model_cnn(embedding_matrix)"
      ],
      "execution_count": null,
      "outputs": []
    },
    {
      "cell_type": "code",
      "metadata": {
        "id": "0Vduyn6E33ge"
      },
      "source": [
        "filepath='/content/drive/MyDrive/Colab Notebooks/Models/text_cnn_500_trainabe_true_fasttext.hd5f'"
      ],
      "execution_count": null,
      "outputs": []
    },
    {
      "cell_type": "code",
      "metadata": {
        "colab": {
          "base_uri": "https://localhost:8080/"
        },
        "id": "_O5R45XP_G9w",
        "outputId": "10d001dd-fb44-49d0-8980-4fc9c867221c"
      },
      "source": [
        "filepath='/content/drive/MyDrive/Colab Notebooks/Models/text_cnn_500_trainabe_true_fasttext.hd5f'\n",
        "\n",
        "checkpoint = ModelCheckpoint(filepath, monitor='val_loss', verbose=2, save_best_only=True, mode='min')\n",
        "reduce_lr = ReduceLROnPlateau(monitor='val_loss', factor=0.6, patience=1, min_lr=0.0001, verbose=2)\n",
        "earlystopping = EarlyStopping(monitor='val_loss', patience=3, verbose=2, mode='auto')\n",
        "\n",
        "callbacks = [checkpoint, earlystopping]\n",
        "\n",
        "x_train = X\n",
        "y_train = np.asarray(Y)\n",
        "\n",
        "history = model.fit(x_train, y_train, batch_size=32, epochs=1000, verbose=1, validation_split=0.2,callbacks=callbacks)\n",
        "        \n"
      ],
      "execution_count": null,
      "outputs": [
        {
          "output_type": "stream",
          "text": [
            "Epoch 1/1000\n",
            "579/579 [==============================] - 272s 469ms/step - loss: 0.0971 - accuracy: 0.2431 - val_loss: 0.0420 - val_accuracy: 0.2890\n",
            "\n",
            "Epoch 00001: val_loss improved from inf to 0.04203, saving model to /content/drive/MyDrive/Colab Notebooks/Models/text_cnn_500_trainabe_true_fasttext.hd5f\n",
            "INFO:tensorflow:Assets written to: /content/drive/MyDrive/Colab Notebooks/Models/text_cnn_500_trainabe_true_fasttext.hd5f/assets\n",
            "Epoch 2/1000\n",
            "579/579 [==============================] - 269s 464ms/step - loss: 0.0328 - accuracy: 0.3002 - val_loss: 0.0377 - val_accuracy: 0.2600\n",
            "\n",
            "Epoch 00002: val_loss improved from 0.04203 to 0.03769, saving model to /content/drive/MyDrive/Colab Notebooks/Models/text_cnn_500_trainabe_true_fasttext.hd5f\n",
            "INFO:tensorflow:Assets written to: /content/drive/MyDrive/Colab Notebooks/Models/text_cnn_500_trainabe_true_fasttext.hd5f/assets\n",
            "Epoch 3/1000\n",
            "579/579 [==============================] - 270s 467ms/step - loss: 0.0216 - accuracy: 0.3049 - val_loss: 0.0359 - val_accuracy: 0.3622\n",
            "\n",
            "Epoch 00003: val_loss improved from 0.03769 to 0.03593, saving model to /content/drive/MyDrive/Colab Notebooks/Models/text_cnn_500_trainabe_true_fasttext.hd5f\n",
            "INFO:tensorflow:Assets written to: /content/drive/MyDrive/Colab Notebooks/Models/text_cnn_500_trainabe_true_fasttext.hd5f/assets\n",
            "Epoch 4/1000\n",
            "579/579 [==============================] - 271s 468ms/step - loss: 0.0142 - accuracy: 0.3145 - val_loss: 0.0376 - val_accuracy: 0.2968\n",
            "\n",
            "Epoch 00004: val_loss did not improve from 0.03593\n",
            "Epoch 5/1000\n",
            "579/579 [==============================] - 267s 461ms/step - loss: 0.0097 - accuracy: 0.3145 - val_loss: 0.0385 - val_accuracy: 0.2575\n",
            "\n",
            "Epoch 00005: val_loss did not improve from 0.03593\n",
            "Epoch 6/1000\n",
            "579/579 [==============================] - 272s 470ms/step - loss: 0.0073 - accuracy: 0.3028 - val_loss: 0.0429 - val_accuracy: 0.3054\n",
            "\n",
            "Epoch 00006: val_loss did not improve from 0.03593\n",
            "Epoch 00006: early stopping\n"
          ],
          "name": "stdout"
        }
      ]
    },
    {
      "cell_type": "code",
      "metadata": {
        "colab": {
          "base_uri": "https://localhost:8080/"
        },
        "id": "qR-fq-v__Ko2",
        "outputId": "fffe6454-37e6-45b1-d4e9-0a0269fd41e2"
      },
      "source": [
        "import matplotlib.pyplot as plt\n",
        "\n",
        "plt.plot(history.history['accuracy'])\n",
        "plt.plot(history.history['val_accuracy'])\n",
        "\n",
        "plt.title('model accuracy')\n",
        "plt.ylabel('accuracy')\n",
        "plt.xlabel('epoch')\n",
        "plt.legend(['train','test'], loc='upper left')\n",
        "plt.show()\n",
        "\n",
        "plt.plot(history.history['loss'])\n",
        "plt.plot(history.history['val_loss'])\n",
        "\n",
        "plt.title('model loss')\n",
        "plt.ylabel('loss')\n",
        "plt.xlabel('epoch')\n",
        "plt.legend(['train','test'], loc='upper left')\n",
        "plt.show()"
      ],
      "execution_count": null,
      "outputs": [
        {
          "output_type": "display_data",
          "data": {
            "image/png": "[encoded data removed]",
            "text/plain": [
              "<Figure size 432x288 with 1 Axes>"
            ]
          },
          "metadata": {
            "tags": [],
            "needs_background": "light"
          }
        },
        {
          "output_type": "display_data",
          "data": {
            "image/png": "[encoded data removed]",
            "text/plain": [
              "<Figure size 432x288 with 1 Axes>"
            ]
          },
          "metadata": {
            "tags": [],
            "needs_background": "light"
          }
        }
      ]
    },
    {
      "cell_type": "code",
      "metadata": {
        "id": "Uvxc5ZAS_LWY"
      },
      "source": [
        "model = tf.keras.models.load_model(filepath)"
      ],
      "execution_count": null,
      "outputs": []
    },
    {
      "cell_type": "code",
      "metadata": {
        "id": "4hUORCBF_Noi"
      },
      "source": [
        "predictions=model.predict(X_test)"
      ],
      "execution_count": null,
      "outputs": []
    },
    {
      "cell_type": "code",
      "metadata": {
        "id": "jgktUJns_QJt"
      },
      "source": [
        "from sklearn.metrics import f1_score\n",
        "from sklearn.metrics import accuracy_score\n",
        "#delta, _ = bestThresshold(Y_test,predictions)"
      ],
      "execution_count": null,
      "outputs": []
    },
    {
      "cell_type": "code",
      "metadata": {
        "id": "rx3nIKH1_QzC"
      },
      "source": [
        "pred_bools = [pl>0.50 for pl in predictions] #boolean output after thresholding\n",
        "\n",
        "#Print and save classification report\n",
        "print('Test F1 Accuracy(Micro): ', f1_score(Y_test, pred_bools,average='micro'))\n",
        "print('Test F1 Accuracy(Macro): ', f1_score(Y_test, pred_bools,average='macro'))\n",
        "print('Test Flat Accuracy: ', accuracy_score(Y_test, pred_bools),'\\n')"
      ],
      "execution_count": null,
      "outputs": []
    },
    {
      "cell_type": "code",
      "metadata": {
        "id": "Fiy2vjcM_S0C"
      },
      "source": [
        "m = tf.keras.metrics.Precision(top_k=1)\n",
        "m.update_state(Y_test, pred_bools)\n",
        "m.result().numpy()"
      ],
      "execution_count": null,
      "outputs": []
    },
    {
      "cell_type": "code",
      "metadata": {
        "id": "1MrUgDXe_UUQ"
      },
      "source": [
        "m = tf.keras.metrics.Precision(top_k=3)\n",
        "m.update_state(Y_test, pred_bools)\n",
        "m.result().numpy()"
      ],
      "execution_count": null,
      "outputs": []
    },
    {
      "cell_type": "code",
      "metadata": {
        "id": "sHPs51uI_Xsw"
      },
      "source": [
        "m = tf.keras.metrics.Precision(top_k=5)\n",
        "m.update_state(Y_test, pred_bools)\n",
        "m.result().numpy()"
      ],
      "execution_count": null,
      "outputs": []
    },
    {
      "cell_type": "code",
      "metadata": {
        "id": "2zceLOo7IYax"
      },
      "source": [
        "def precision(actual, predicted, k):\n",
        "    act_set = set(actual.flatten())\n",
        "    pred_set = set(predicted[:k].flatten())\n",
        "    result = len(act_set & pred_set) / float(k)\n",
        "    return result\n",
        "\n",
        "pred_bools=np.array(pred_bools)"
      ],
      "execution_count": null,
      "outputs": []
    },
    {
      "cell_type": "code",
      "metadata": {
        "id": "FannATRFIjND"
      },
      "source": [
        "precision(Y_test,pred_bools,3)"
      ],
      "execution_count": null,
      "outputs": []
    }
  ]
}